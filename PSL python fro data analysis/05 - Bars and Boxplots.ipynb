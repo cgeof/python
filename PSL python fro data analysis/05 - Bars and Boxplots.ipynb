{
 "cells": [
  {
   "cell_type": "code",
   "execution_count": 2,
   "metadata": {},
   "outputs": [],
   "source": [
    "import matplotlib.pyplot as plt"
   ]
  },
  {
   "cell_type": "markdown",
   "metadata": {},
   "source": [
    "# Bars and Boxplots\n",
    "## Bars\n",
    "A very common way to **simple information about datasets** (such as proportions, or average values) is by using bar plots.<br />\n",
    "With Matplotlib, you can display bar plots by simply calling the **\"bar()\"** function and passing the **position** of the bars and their **heights** as parameters.<br />"
   ]
  },
  {
   "cell_type": "code",
   "execution_count": 3,
   "metadata": {},
   "outputs": [
    {
     "data": {
      "image/png": "[encoded data removed]",
      "text/plain": [
       "<Figure size 432x288 with 1 Axes>"
      ]
     },
     "metadata": {
      "needs_background": "light"
     },
     "output_type": "display_data"
    }
   ],
   "source": [
    "# Generating data\n",
    "import numpy as np\n",
    "heights = np.random.randn(7)\n",
    "pos = np.arange(0, 7, 1)\n",
    "\n",
    "# Initializing figure\n",
    "fig = plt.figure()\n",
    "\n",
    "# Plotting\n",
    "plt.bar(pos, heights)\n",
    "\n",
    "#Showing\n",
    "plt.show()"
   ]
  },
  {
   "cell_type": "markdown",
   "metadata": {},
   "source": [
    "It is possible to **display error** at the tip of the bars. This is done using the parameters **\"yerr\"** and **\"xerr\"**. The error bars can be modified using the same parameters as for the function \"errorbars()\"."
   ]
  },
  {
   "cell_type": "code",
   "execution_count": 4,
   "metadata": {},
   "outputs": [
    {
     "data": {
      "text/plain": [
       "<Figure size 432x288 with 0 Axes>"
      ]
     },
     "metadata": {},
     "output_type": "display_data"
    }
   ],
   "source": [
    "heights = np.random.randn(7)\n",
    "pos = np.arange(0, 7, 1)\n",
    "err = 0.1 * np.abs(np.random.randn(7))\n",
    "\n",
    "fig = plt.figure()\n",
    "# TODO: Plot the bars with an error in y\n",
    "\n",
    "plt.show()"
   ]
  },
  {
   "cell_type": "markdown",
   "metadata": {},
   "source": [
    "But more importantly, bars can be stacked. This is done by plotting sequentially several bar plots in the same graph and by taking advantage of the parameter **\"bottom\"**. \"bottom\" allows to specify from which height your bars need to start."
   ]
  },
  {
   "cell_type": "code",
   "execution_count": 9,
   "metadata": {},
   "outputs": [
    {
     "data": {
      "image/png": "[encoded data removed]",
      "text/plain": [
       "<Figure size 432x288 with 1 Axes>"
      ]
     },
     "metadata": {
      "needs_background": "light"
     },
     "output_type": "display_data"
    }
   ],
   "source": [
    "h1 = [33, 50]\n",
    "h2 = [60, 25]\n",
    "h3 = [7, 25]\n",
    "pos = np.arange(0, 2, 1)\n",
    "\n",
    "fig = plt.figure()\n",
    "# TODO: Plot the bars h1, h2 and h3 in a stacked manner\n",
    "plt.bar(pos, h1)\n",
    "plt.bar(pos, h2, bottom=h1)\n",
    "plt.bar(pos, h3, bottom=np.array(h1)+np.array(h2))\n",
    "plt.show()"
   ]
  },
  {
   "cell_type": "markdown",
   "metadata": {},
   "source": [
    "## Customization\n",
    "### Bar  Width\n",
    "You can change the width of the bars using the **\"width\"** parameter, then specifying the width as a float. The default width is 1."
   ]
  },
  {
   "cell_type": "code",
   "execution_count": 6,
   "metadata": {},
   "outputs": [
    {
     "data": {
      "image/png": "[encoded data removed]",
      "text/plain": [
       "<Figure size 432x288 with 1 Axes>"
      ]
     },
     "metadata": {
      "needs_background": "light"
     },
     "output_type": "display_data"
    }
   ],
   "source": [
    "heights = np.random.randn(7)\n",
    "pos = np.arange(0, 7, 1)\n",
    "\n",
    "fig = plt.figure()\n",
    "plt.bar(pos, heights, width=0.5)\n",
    "plt.show()"
   ]
  },
  {
   "cell_type": "markdown",
   "metadata": {},
   "source": [
    "### Orientation\n",
    "The orientation of the bars can be changes using the parameter **\"orientation\"**. The default is \"vertical\", but it can be set to \"horizontal\""
   ]
  },
  {
   "cell_type": "markdown",
   "metadata": {},
   "source": [
    "### Edges\n",
    "You can modify the eges of the bar using several parameters.<br />\n",
    "For example, you can set the color of the edge using **\"edgecolor\"**, or the width of the edge using **\"linewidth\"**."
   ]
  },
  {
   "cell_type": "markdown",
   "metadata": {},
   "source": [
    "## Boxplots\n",
    "Boxplots are a very common type of data representation for on dimensional data. They give very precious informations about the distribution such as **median**, **percentiles** and more.<br />\n",
    "With Matplotlib, you can plot boxplots using the function **\"boxplot()\"**, passing as arguments the **data of the boxes** and eventually their **position**(facultative).<br />\n",
    "Data are presented as a **2 dimensional array** with n rows (corresponding to n boxes)."
   ]
  },
  {
   "cell_type": "code",
   "execution_count": 10,
   "metadata": {},
   "outputs": [
    {
     "data": {
      "image/png": "[encoded data removed]",
      "text/plain": [
       "<Figure size 432x288 with 1 Axes>"
      ]
     },
     "metadata": {
      "needs_background": "light"
     },
     "output_type": "display_data"
    }
   ],
   "source": [
    "x1 = np.random.randn(100)\n",
    "x2 = np.random.randn(100) + 1\n",
    "x3 = np.random.randn(100) - 1\n",
    "pos = np.arange(0, 3)\n",
    "\n",
    "fig = plt.figure()\n",
    "plt.boxplot([x1, x2, x3], positions=pos)\n",
    "\n",
    "plt.show()"
   ]
  },
  {
   "cell_type": "code",
   "execution_count": null,
   "metadata": {},
   "outputs": [],
   "source": []
  }
 ],
 "metadata": {
  "kernelspec": {
   "display_name": "Python 2",
   "language": "python",
   "name": "python2"
  },
  "language_info": {
   "codemirror_mode": {
    "name": "ipython",
    "version": 2
   },
   "file_extension": ".py",
   "mimetype": "text/x-python",
   "name": "python",
   "nbconvert_exporter": "python",
   "pygments_lexer": "ipython2",
   "version": "2.7.15"
  }
 },
 "nbformat": 4,
 "nbformat_minor": 2
}
