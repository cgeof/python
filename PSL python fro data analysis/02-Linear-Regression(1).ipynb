{
 "cells": [
  {
   "cell_type": "markdown",
   "metadata": {},
   "source": [
    "# Linear regression from scratch\n",
    "The goal of the exercise is here to implement a simple linear regression between two 1-dimensional variables from scratch using numpy.\n",
    "\n",
    "Let say that we want to predict the values of n points $y = \\{y_i\\}_i$ from the values of $x = \\{x_i\\}_i$ with a simple linear equation:\n",
    "\n",
    "\\\\[ \\hat{y_i} = b_1 . x_i  + b_0 \\\\]\n",
    "\n",
    "Where $\\hat{y_i}$ is the predicted value of $y_i$ knowing $x_i$, $b_1$ is called the slope and $b_0$ the intercept.\n",
    "\n",
    "The formula for the coefficients of a simple linear regression between x and y minimizing the mean squared error between $y$ and $\\hat{y}$ is given by: \n",
    "\n",
    "\n",
    "\\\\[ b_1 = \\frac{cov_{xy}}{var_{x}}\\\\]\n",
    "and \n",
    "\\\\[ b_0 = \\bar{y} - b_1 .\\bar{x} \\\\]\n",
    "\n",
    "With:\n",
    "- $\\bar{y} = \\sum_{i=1}^n{y_i} / n$ the empirical mean of $y$\n",
    "- $\\bar{x} = \\sum_{i=1}^n{x_i} / n$ the empirical mean of $x$\n",
    "- $cov_{xy} = \\sum_{i=1}^n{(x_i -\\bar{x})(y_i -\\bar{y})} / n$, the empirical covariance between x and y\n",
    "- $var_{x} = \\sum_{i=1}^n{(x_i -\\bar{x})^2} / n$, the variance of x\n"
   ]
  },
  {
   "cell_type": "markdown",
   "metadata": {},
   "source": [
    "## Helper functions\n",
    "A few helper functions for data loading and visualization are available in helpers.py:"
   ]
  },
  {
   "cell_type": "code",
   "execution_count": 1,
   "metadata": {},
   "outputs": [
    {
     "name": "stdout",
     "output_type": "stream",
     "text": [
      "hello\n"
     ]
    }
   ],
   "source": [
    "import helpers\n",
    "# test the import by running  a dummy function\n",
    "helpers.print_hello()"
   ]
  },
  {
   "cell_type": "code",
   "execution_count": 2,
   "metadata": {},
   "outputs": [
    {
     "data": {
      "text/plain": [
       "array([[1.10000e+00, 3.93430e+04],\n",
       "       [1.30000e+00, 4.62050e+04],\n",
       "       [1.50000e+00, 3.77310e+04],\n",
       "       [2.00000e+00, 4.35250e+04],\n",
       "       [2.20000e+00, 3.98910e+04],\n",
       "       [2.90000e+00, 5.66420e+04],\n",
       "       [3.00000e+00, 6.01500e+04],\n",
       "       [3.20000e+00, 5.44450e+04],\n",
       "       [3.20000e+00, 6.44450e+04],\n",
       "       [3.70000e+00, 5.71890e+04],\n",
       "       [3.90000e+00, 6.32180e+04],\n",
       "       [4.00000e+00, 5.57940e+04],\n",
       "       [4.00000e+00, 5.69570e+04],\n",
       "       [4.10000e+00, 5.70810e+04],\n",
       "       [4.50000e+00, 6.11110e+04],\n",
       "       [4.90000e+00, 6.79380e+04],\n",
       "       [5.10000e+00, 6.60290e+04],\n",
       "       [5.30000e+00, 8.30880e+04],\n",
       "       [5.90000e+00, 8.13630e+04],\n",
       "       [6.00000e+00, 9.39400e+04],\n",
       "       [6.80000e+00, 9.17380e+04],\n",
       "       [7.10000e+00, 9.82730e+04],\n",
       "       [7.90000e+00, 1.01302e+05],\n",
       "       [8.20000e+00, 1.13812e+05],\n",
       "       [8.70000e+00, 1.09431e+05],\n",
       "       [9.00000e+00, 1.05582e+05],\n",
       "       [9.50000e+00, 1.16969e+05],\n",
       "       [9.60000e+00, 1.12635e+05],\n",
       "       [1.03000e+01, 1.22391e+05],\n",
       "       [1.05000e+01, 1.21872e+05]])"
      ]
     },
     "execution_count": 2,
     "metadata": {},
     "output_type": "execute_result"
    }
   ],
   "source": [
    "x = helpers.data_linear_regression[:, 0]\n",
    "y = helpers.data_linear_regression[:, 1]\n",
    "\n",
    "helpers.data_linear_regression  # The data we will be using here"
   ]
  },
  {
   "cell_type": "code",
   "execution_count": 3,
   "metadata": {},
   "outputs": [
    {
     "data": {
      "image/png": "[encoded data removed]",
      "text/plain": [
       "<Figure size 576x576 with 1 Axes>"
      ]
     },
     "metadata": {
      "needs_background": "light"
     },
     "output_type": "display_data"
    }
   ],
   "source": [
    "fig, ax = helpers.plot_linear_regression(x, y, slope=1., intercept=0.)"
   ]
  },
  {
   "cell_type": "markdown",
   "metadata": {},
   "source": [
    "## Implementation\n",
    "Fill in the following functions to obtain your implementation of a simple linear regression **without using loops**. You can define additional functions if you need to:"
   ]
  },
  {
   "cell_type": "code",
   "execution_count": 4,
   "metadata": {},
   "outputs": [
    {
     "data": {
      "text/plain": [
       "array([[8.05360920e+00, 7.61063034e+04],\n",
       "       [7.61063034e+04, 7.51550960e+08]])"
      ]
     },
     "execution_count": 4,
     "metadata": {},
     "output_type": "execute_result"
    }
   ],
   "source": [
    "import numpy as np\n",
    "np.cov(x,y)"
   ]
  },
  {
   "cell_type": "code",
   "execution_count": null,
   "metadata": {},
   "outputs": [],
   "source": [
    "import numpy as np\n",
    "\n",
    "def compute_slope(x, y):\n",
    "    \"Return the slope for a 1-dimensional linear regression\"\n",
    "    covariance_matric=np.cov(x,y)\n",
    "    slope=covariance_matrix[0,1]/covariance_matrix[0,0]\n",
    "    return slope\n",
    "    \n",
    "\n",
    "def compute_linear_regression(x, y):\n",
    "    \"Return the slope and the intercept for a 1-dimensional linear regression\"\n",
    "    slope=compute_slope(x,y)\n",
    "    intercept=np.mean(y)-slope\n",
    "    return slope, intercept"
   ]
  },
  {
   "cell_type": "code",
   "execution_count": null,
   "metadata": {},
   "outputs": [],
   "source": [
    "# Visualize the output:\n",
    "slope, intercept = compute_linear_regression(x, y)\n",
    "\n",
    "fig, ax = helpers.plot_linear_regression(x, y, slope=slope, intercept=intercept)"
   ]
  },
  {
   "cell_type": "markdown",
   "metadata": {},
   "source": [
    "## To go further\n",
    "Additional tasks if you want to go further:\n",
    "- Compute the mean square error between the true value of y and the predicted value\n",
    "- Generalize the code to use a multidimensional x input (see the formula [here](https://www.hackerearth.com/practice/machine-learning/linear-regression/multivariate-linear-regression-1/tutorial/))"
   ]
  }
 ],
 "metadata": {
  "kernelspec": {
   "display_name": "Python 2",
   "language": "python",
   "name": "python2"
  },
  "language_info": {
   "codemirror_mode": {
    "name": "ipython",
    "version": 2
   },
   "file_extension": ".py",
   "mimetype": "text/x-python",
   "name": "python",
   "nbconvert_exporter": "python",
   "pygments_lexer": "ipython2",
   "version": "2.7.15"
  }
 },
 "nbformat": 4,
 "nbformat_minor": 4
}
