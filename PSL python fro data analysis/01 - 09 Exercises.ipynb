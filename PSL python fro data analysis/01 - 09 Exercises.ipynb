{
 "cells": [
  {
   "cell_type": "markdown",
   "metadata": {},
   "source": [
    "# Exercise 1: Capitalization\n",
    "Remember the \"capitalize()\" built-in function of the strings? Try to recreate it by doing something similar, a function that will take the first letter of a string and make it upper case.<br /><br />\n",
    "Hint 1 : You can use other strings built-in functions<br />\n",
    "Hint 2 : Google is your best friend<br />\n",
    "Bonus point if you manage to deal with the case where the input is not a string"
   ]
  },
  {
   "cell_type": "code",
   "execution_count": 3,
   "metadata": {},
   "outputs": [
    {
     "name": "stdout",
     "output_type": "stream",
     "text": [
      "J'aime les lapinous\n"
     ]
    }
   ],
   "source": [
    "string=\"j'aime les lapinous\"\n",
    "s2=string.capitalize()\n",
    "print(s2)\n"
   ]
  },
  {
   "cell_type": "markdown",
   "metadata": {},
   "source": [
    "# Exercise 2: Fibonacci sequence\n",
    "The Fibonacci sequence is a sequence of integers such as the nth element of the sequence is the sumn of the n-1th and n-2th element.\n",
    "Make a function that will return a list containing the Fibonacci sequence up to a certain number, that will be the input argument of the function.\n",
    "https://en.wikipedia.org/wiki/Fibonacci_number"
   ]
  },
  {
   "cell_type": "code",
   "execution_count": 26,
   "metadata": {},
   "outputs": [
    {
     "ename": "IndentationError",
     "evalue": "expected an indented block (<ipython-input-26-b2a7b08fb7b0>, line 7)",
     "output_type": "error",
     "traceback": [
      "\u001b[1;36m  File \u001b[1;32m\"<ipython-input-26-b2a7b08fb7b0>\"\u001b[1;36m, line \u001b[1;32m7\u001b[0m\n\u001b[1;33m    a=n-1\u001b[0m\n\u001b[1;37m    ^\u001b[0m\n\u001b[1;31mIndentationError\u001b[0m\u001b[1;31m:\u001b[0m expected an indented block\n"
     ]
    }
   ],
   "source": [
    "\n",
    "from __future__ import division\n",
    "\n",
    "def fib(n):\n",
    "   \n",
    "    if n <= 1:\n",
    "        return n\n",
    "    return fib(n-1) + fib(n-2)\n",
    "[fib(n) for n in range(17)]"
   ]
  },
  {
   "cell_type": "code",
   "execution_count": 28,
   "metadata": {},
   "outputs": [
    {
     "name": "stdout",
     "output_type": "stream",
     "text": [
      "[0, 1, 1, 2, 3, 5, 8, 13, 21, 34, 55, 89, 144, 233, 377, 610, 987, 1597]\n"
     ]
    }
   ],
   "source": [
    "# calculate the first 25 Fibonacci numbers\n",
    "f1 = 0\n",
    "f2 = 1\n",
    "ar = [f1, f2] # a list to hold the computed values. We know the first two numbers\n",
    "\n",
    "# we only need to run our calculation 23 times, because positions 1 and 2 are known\n",
    "for i in range (16):\n",
    "    f3 = f1 + f2\n",
    "    ar.append (f3)\n",
    "    f1 = f2\n",
    "    f2 = f3\n",
    "    \n",
    "print (ar) # below, you see the output of the code itself."
   ]
  },
  {
   "cell_type": "code",
   "execution_count": 30,
   "metadata": {},
   "outputs": [
    {
     "ename": "SyntaxError",
     "evalue": "invalid syntax (<ipython-input-30-46815938230e>, line 4)",
     "output_type": "error",
     "traceback": [
      "\u001b[1;36m  File \u001b[1;32m\"<ipython-input-30-46815938230e>\"\u001b[1;36m, line \u001b[1;32m4\u001b[0m\n\u001b[1;33m    print(b, end=' ')\u001b[0m\n\u001b[1;37m                ^\u001b[0m\n\u001b[1;31mSyntaxError\u001b[0m\u001b[1;31m:\u001b[0m invalid syntax\n"
     ]
    }
   ],
   "source": [
    "def fib(n):\n",
    "    a, b = 0, 1\n",
    "    while b < n:\n",
    "        print(b, end=' ')\n",
    "        a, b = b, a+b\n",
    "    print()\n"
   ]
  },
  {
   "cell_type": "markdown",
   "metadata": {},
   "source": [
    "# Exercise 3: Decryption\n",
    "You were contacted by the CIA, who needs help to decipher crypter transmissions to prevent a catastrophic event.<br />\n",
    "They have the decryption table, however none of their agents is skilled enough in programming to pull off an automatic way to decrypt those numbers.<br />\n",
    "They heard about your skills in Python and they are asking your help to make a function that will decrypt any input string that contains only letters into the corresponding number using the following table.<br />\n",
    "The survival of the world lies in your hands, and on your keyboard. **Good luck**!"
   ]
  },
  {
   "cell_type": "markdown",
   "metadata": {},
   "source": [
    "| Decrypted Character | Crypted Number | \n",
    "| :-: | :-: | \n",
    "| a | 14 |\n",
    "| b | 15 | \n",
    "| c | 16 | \n",
    "| d | 17 | \n",
    "| e | 18 |\n",
    "| ... | ... |"
   ]
  },
  {
   "cell_type": "code",
   "execution_count": 51,
   "metadata": {},
   "outputs": [
    {
     "name": "stdout",
     "output_type": "stream",
     "text": [
      "abcdefghijklmnopqrstuvwxyz\n",
      "('h', 'e', 'l', 'l', 'o', 'w', 'o', 'r', 'l', 'd')\n"
     ]
    }
   ],
   "source": [
    "import string\n",
    "alphabet = string.ascii_lowercase\n",
    "print(alphabet)\n",
    "\n",
    "coded_string = '21/18/25/25/28/36/28/31/25/17'\n",
    "a=14\n",
    "print(alphabet[21-a],alphabet[18-a],alphabet[25-a],alphabet[25-a],alphabet[28-a],alphabet[36-a],alphabet[28-a],alphabet[31-a],alphabet[25-a],alphabet[17-a])"
   ]
  },
  {
   "cell_type": "markdown",
   "metadata": {},
   "source": [
    "# Exercise 4: Artificial Intelligence\n",
    "Guessing a number between 0 and 100 is a simple game, we all know how to play it. But you feel kinda lazy, you would prefer your computer to play it for you!<br />\n",
    "Try to create an artificial intelligence (well... a function) that will automatically solve this game, and display the number of trials it took to solve it."
   ]
  },
  {
   "cell_type": "code",
   "execution_count": 52,
   "metadata": {},
   "outputs": [],
   "source": [
    "def check_guess(guess, target):\n",
    "    \"Check if we guessed the correct value\"\n",
    "    if guess < target:\n",
    "        return \"lower\"\n",
    "    elif guess > target:\n",
    "        return \"higher\"\n",
    "    else:\n",
    "        return \"correct !\"\n",
    "    \n",
    "\n",
    "def guess(target, max_value=100):\n",
    "    \"Guess a target number between 0 and max_value\"\n",
    "    attempts = 0\n",
    "    output = \"\"\n",
    "    \n",
    "    while output != \"correct !\":\n",
    "        # TODO\n",
    "        my_guess = target\n",
    "        output = check_guess(my_guess, target)\n",
    "        attempts += 1\n",
    "    print(\"Attempt number : {}\".format(attempts))"
   ]
  },
  {
   "cell_type": "code",
   "execution_count": null,
   "metadata": {},
   "outputs": [],
   "source": []
  }
 ],
 "metadata": {
  "kernelspec": {
   "display_name": "Python 2",
   "language": "python",
   "name": "python2"
  },
  "language_info": {
   "codemirror_mode": {
    "name": "ipython",
    "version": 2
   },
   "file_extension": ".py",
   "mimetype": "text/x-python",
   "name": "python",
   "nbconvert_exporter": "python",
   "pygments_lexer": "ipython2",
   "version": "2.7.15"
  }
 },
 "nbformat": 4,
 "nbformat_minor": 4
}
