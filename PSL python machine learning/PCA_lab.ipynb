{
 "cells": [
  {
   "cell_type": "markdown",
   "metadata": {},
   "source": [
    "# Principal component analysis\n",
    "\n",
    "Author: Pierre Ablin\n",
    "\n",
    "In this lab, we will look at our first datasets, manipulate them, and implement principal component analysis.\n",
    "\n",
    "We will rely on the amazing scikit-learn library.\n",
    "First let's import some packages:"
   ]
  },
  {
   "cell_type": "code",
   "execution_count": null,
   "metadata": {},
   "outputs": [],
   "source": [
    "import numpy as np\n",
    "import matplotlib.pyplot as plt\n",
    "from sklearn.datasets import load_iris, load_digits"
   ]
  },
  {
   "cell_type": "markdown",
   "metadata": {},
   "source": [
    "# 1) Manipulating datasets\n",
    "\n",
    "We are first going to play with the *iris* dataset. This dataset contains the petal width, lenght and sepal width lenght of some iris flowers. It comes with scikit learn, we can simply load it by doing:"
   ]
  },
  {
   "cell_type": "code",
   "execution_count": null,
   "metadata": {},
   "outputs": [],
   "source": [
    "X, labels = load_iris(return_X_y=True)"
   ]
  },
  {
   "cell_type": "markdown",
   "metadata": {},
   "source": [
    "Now, we have access to the dataset matrix, $X$ of size $n\\times p$ where $n$ is the number of samples and $p$ the number of features."
   ]
  },
  {
   "cell_type": "code",
   "execution_count": null,
   "metadata": {},
   "outputs": [],
   "source": [
    "print(X.shape)"
   ]
  },
  {
   "cell_type": "markdown",
   "metadata": {},
   "source": [
    "Here, X is of size `(150, 4)`, so we have $150$ samples and $4$ features."
   ]
  },
  {
   "cell_type": "markdown",
   "metadata": {},
   "source": [
    "**Exercise 1**: what is the second feature of the $51$st sample?"
   ]
  },
  {
   "cell_type": "code",
   "execution_count": null,
   "metadata": {},
   "outputs": [],
   "source": [
    "# Your code here"
   ]
  },
  {
   "cell_type": "markdown",
   "metadata": {},
   "source": [
    "We can try to visualize the dataset, by plotting for instance the first feature in the $x$ axis and the second feature in the $y$ axis.\n",
    "\n",
    "**Exercise 2**: Display the dataset in the way described above. What do you see?"
   ]
  },
  {
   "cell_type": "code",
   "execution_count": null,
   "metadata": {},
   "outputs": [],
   "source": [
    "# Your code here"
   ]
  },
  {
   "cell_type": "markdown",
   "metadata": {},
   "source": [
    "We also have loaded the target *labels* as the numpy array `labels`. There is one label per sample, which corresponds to the species of the flower.\n",
    "\n",
    "**Exercise 3**: Display the first two features of the dataset and color each point with a color corresponding to its label. What do you see?"
   ]
  },
  {
   "cell_type": "code",
   "execution_count": null,
   "metadata": {},
   "outputs": [],
   "source": [
    "# Your code here"
   ]
  },
  {
   "cell_type": "markdown",
   "metadata": {},
   "source": [
    "Here, you can see that the different classes are already quite well separated.\n",
    "\n",
    "We are now going to take the digits dataset, that contains images:"
   ]
  },
  {
   "cell_type": "code",
   "execution_count": null,
   "metadata": {},
   "outputs": [],
   "source": [
    "X, labels = load_digits(return_X_y=True)"
   ]
  },
  {
   "cell_type": "code",
   "execution_count": null,
   "metadata": {},
   "outputs": [],
   "source": [
    "print(X.shape)"
   ]
  },
  {
   "cell_type": "markdown",
   "metadata": {},
   "source": [
    "We see that $X$ contains $1797$ samples. Each sample has $64$ features, which correspond to the pixels of an $8 \\times 8$ image. We can visualize each image by reshaping the vector into an $8\\times 8$ array as follows:"
   ]
  },
  {
   "cell_type": "code",
   "execution_count": null,
   "metadata": {},
   "outputs": [],
   "source": [
    "sample_idx = 23\n",
    "img = X[sample_idx].reshape(8, 8)\n",
    "plt.imshow(img)"
   ]
  },
  {
   "cell_type": "markdown",
   "metadata": {},
   "source": [
    "**Exercise 4**: Do the same thing as in Exercise 3, but with the features number $22$ and $43$. What do you see?"
   ]
  },
  {
   "cell_type": "code",
   "execution_count": null,
   "metadata": {},
   "outputs": [],
   "source": [
    "# Your code here"
   ]
  },
  {
   "cell_type": "markdown",
   "metadata": {},
   "source": [
    "This is clearly a poor way to visualize the dataset ! In order to get a better idea of what is going on, we will now perform a PCA.\n",
    "\n",
    "# 2) Principal component analysis\n",
    "\n",
    "The first step for a PCA is to shift the dataset so that its mean is $0$.\n",
    "\n",
    "**Exercise 5** Create `X_centered` which contains the centered dataset. To do so, you should subtract the average value of the features to $X$."
   ]
  },
  {
   "cell_type": "code",
   "execution_count": null,
   "metadata": {},
   "outputs": [],
   "source": [
    "# Your code here"
   ]
  },
  {
   "cell_type": "markdown",
   "metadata": {},
   "source": [
    "You are now ready to code the PCA of X. We will first code the *deflation approach*.\n",
    "\n",
    "**Exercise 6** Write a function `get_principal_component(X)` that returns the first principal component of the dataset $X$ and the corresponding basis vector."
   ]
  },
  {
   "cell_type": "code",
   "execution_count": null,
   "metadata": {},
   "outputs": [],
   "source": [
    "def get_principal_component(X):\n",
    "    '''\n",
    "    Input\n",
    "    -----\n",
    "    X : centered dataset of size n x p\n",
    "    \n",
    "    Output\n",
    "    ------\n",
    "    w : vector of size p, the direction of maximal variance in X.\n",
    "        Must be of norm 1.\n",
    "    y : vector of size n, the representation of each sample.\n",
    "    \n",
    "    We should have X ~= y w^T\n",
    "    '''\n",
    "    # Your code here\n",
    "    return w, y\n",
    "\n",
    "\n",
    "w, y = get_principal_component(X_centered)\n",
    "print('Squared norm of X : %.2e' % np.mean(X_centered ** 2))\n",
    "residual = X_centered - np.outer(y, w)\n",
    "print('Squared norm of X - yw^T : %.2e' % np.mean(residual ** 2))  # must be smaller than the norm of X"
   ]
  },
  {
   "cell_type": "markdown",
   "metadata": {},
   "source": [
    "**Exercise 7**: display the basis vector w as an image. You should get the same thing as in the slides :)"
   ]
  },
  {
   "cell_type": "code",
   "execution_count": null,
   "metadata": {},
   "outputs": [],
   "source": [
    "# Your code here"
   ]
  },
  {
   "cell_type": "markdown",
   "metadata": {},
   "source": [
    "**Exercise 8** Now, write a function to compute the PCA with dimension $k$, using the function `get_principal_component(X)` iteratively. Display the first 10 basis vectors"
   ]
  },
  {
   "cell_type": "code",
   "execution_count": null,
   "metadata": {
    "scrolled": true
   },
   "outputs": [],
   "source": [
    "def deflation_pca(X, k):\n",
    "    '''\n",
    "    Input\n",
    "    -----\n",
    "    X : centered dataset of size n x p\n",
    "    \n",
    "    k : target dimension\n",
    "    \n",
    "    Output\n",
    "    ------\n",
    "    W : array of size k x p, w[i] corresponds to the i-th basis vector\n",
    "    \n",
    "    Y : array of size n x k, Y[j] corresponds to the representation of\n",
    "        the sample j in the basis W.\n",
    "    \n",
    "    We should have X ~= WY\n",
    "    '''\n",
    "    n, p = X.shape\n",
    "    # Initialize vectors\n",
    "    W = np.zeros((k, p))\n",
    "    Y = np.zeros((n, k)) \n",
    "    # Your code here       \n",
    "    return W, Y\n",
    "\n",
    "\n",
    "W, Y = deflation_pca(X_centered, 3)\n",
    "\n",
    "# Your code here"
   ]
  },
  {
   "cell_type": "markdown",
   "metadata": {},
   "source": [
    "**Exercise 9**: Now, code a method that does the computation in parralel, using a single eigenvalue decomposition of the covariance. The two methods must output the same result."
   ]
  },
  {
   "cell_type": "code",
   "execution_count": null,
   "metadata": {},
   "outputs": [],
   "source": [
    "def parallel_pca(X, k):\n",
    "    '''\n",
    "    Input\n",
    "    -----\n",
    "    X : centered dataset of size n x p\n",
    "    \n",
    "    k : target dimension\n",
    "    \n",
    "    Output\n",
    "    ------\n",
    "    W : array of size k x p, w[i] corresponds to the i-th basis vector\n",
    "    \n",
    "    Y : array of size n x k, Y[j] corresponds to the representation of\n",
    "        the sample j in the basis W.\n",
    "    \n",
    "    We should have X ~= WY\n",
    "    '''\n",
    "    # Your code here\n",
    "    return W, Y\n",
    "\n",
    "W, Y = parallel_pca(X_centered, 3)"
   ]
  },
  {
   "cell_type": "markdown",
   "metadata": {},
   "source": [
    "**Exercise 10**: Plot the evolution of the reconstruction error as a function of $k$."
   ]
  },
  {
   "cell_type": "code",
   "execution_count": null,
   "metadata": {},
   "outputs": [],
   "source": [
    "# Your code here"
   ]
  },
  {
   "cell_type": "markdown",
   "metadata": {},
   "source": [
    "**Exercise 11**: plot the reconstruction of an image for different values of $k$"
   ]
  },
  {
   "cell_type": "code",
   "execution_count": null,
   "metadata": {},
   "outputs": [],
   "source": [
    "# Your code here"
   ]
  },
  {
   "cell_type": "markdown",
   "metadata": {},
   "source": [
    "**Exercise 12** Visualize the dataset in 2D using PCA"
   ]
  },
  {
   "cell_type": "code",
   "execution_count": null,
   "metadata": {},
   "outputs": [],
   "source": [
    "# Your code here"
   ]
  },
  {
   "cell_type": "markdown",
   "metadata": {},
   "source": [
    "This is much better than just vizualizing two features ! "
   ]
  }
 ],
 "metadata": {
  "kernelspec": {
   "display_name": "Python 3",
   "language": "python",
   "name": "python3"
  },
  "language_info": {
   "codemirror_mode": {
    "name": "ipython",
    "version": 3
   },
   "file_extension": ".py",
   "mimetype": "text/x-python",
   "name": "python",
   "nbconvert_exporter": "python",
   "pygments_lexer": "ipython3",
   "version": "3.8.5"
  }
 },
 "nbformat": 4,
 "nbformat_minor": 4
}
