{
 "cells": [
  {
   "cell_type": "markdown",
   "metadata": {},
   "source": [
    "<h2><center>Matrices and Eigenvalues</center></h2>\n",
    "<i>This notebook is an introduction to matrix operations in python and to practical computations of eigenvalues and eigenvectors.\n",
    "\n",
    "Author: Gwendoline De Bie"
   ]
  },
  {
   "cell_type": "markdown",
   "metadata": {},
   "source": [
    "<h3>1. Introduction to matrix operations</h3>"
   ]
  },
  {
   "cell_type": "markdown",
   "metadata": {},
   "source": [
    "In this section, we quickly review the python implementation of the main matrix operations studied in the course, followed by two exercises."
   ]
  },
  {
   "cell_type": "markdown",
   "metadata": {},
   "source": [
    "<b>Step 1: Loading python packages</b>"
   ]
  },
  {
   "cell_type": "code",
   "execution_count": 5,
   "metadata": {},
   "outputs": [
    {
     "ename": "ModuleNotFoundError",
     "evalue": "No module named 'numpy'",
     "output_type": "error",
     "traceback": [
      "\u001b[1;31m---------------------------------------------------------------------------\u001b[0m",
      "\u001b[1;31mModuleNotFoundError\u001b[0m                       Traceback (most recent call last)",
      "\u001b[1;32mc:\\Users\\Chloe\\Desktop\\day2_lab_session.ipynb Cellule 5\u001b[0m in \u001b[0;36m<cell line: 1>\u001b[1;34m()\u001b[0m\n\u001b[1;32m----> <a href='vscode-notebook-cell:/c%3A/Users/Chloe/Desktop/day2_lab_session.ipynb#W4sZmlsZQ%3D%3D?line=0'>1</a>\u001b[0m \u001b[39mimport\u001b[39;00m \u001b[39mnumpy\u001b[39;00m \u001b[39mas\u001b[39;00m \u001b[39mnp\u001b[39;00m\n\u001b[0;32m      <a href='vscode-notebook-cell:/c%3A/Users/Chloe/Desktop/day2_lab_session.ipynb#W4sZmlsZQ%3D%3D?line=1'>2</a>\u001b[0m \u001b[39mfrom\u001b[39;00m \u001b[39mnumpy\u001b[39;00m \u001b[39mimport\u001b[39;00m linalg\n\u001b[0;32m      <a href='vscode-notebook-cell:/c%3A/Users/Chloe/Desktop/day2_lab_session.ipynb#W4sZmlsZQ%3D%3D?line=2'>3</a>\u001b[0m \u001b[39mimport\u001b[39;00m \u001b[39mmath\u001b[39;00m\n",
      "\u001b[1;31mModuleNotFoundError\u001b[0m: No module named 'numpy'"
     ]
    }
   ],
   "source": [
    "import numpy as np\n",
    "from numpy import linalg\n",
    "import math\n",
    "import matplotlib.pyplot as plt\n"
   ]
  },
  {
   "cell_type": "markdown",
   "metadata": {},
   "source": [
    "<b>Step 2: Elementary matrix functions</b>"
   ]
  },
  {
   "cell_type": "markdown",
   "metadata": {
    "collapsed": true
   },
   "source": [
    "- Define matrix from elementwise entries:"
   ]
  },
  {
   "cell_type": "code",
   "execution_count": 3,
   "metadata": {},
   "outputs": [
    {
     "ename": "NameError",
     "evalue": "name 'np' is not defined",
     "output_type": "error",
     "traceback": [
      "\u001b[1;31m---------------------------------------------------------------------------\u001b[0m",
      "\u001b[1;31mNameError\u001b[0m                                 Traceback (most recent call last)",
      "\u001b[1;32mc:\\Users\\Chloe\\Desktop\\day2_lab_session.ipynb Cellule 8\u001b[0m in \u001b[0;36m<cell line: 1>\u001b[1;34m()\u001b[0m\n\u001b[1;32m----> <a href='vscode-notebook-cell:/c%3A/Users/Chloe/Desktop/day2_lab_session.ipynb#X10sZmlsZQ%3D%3D?line=0'>1</a>\u001b[0m A \u001b[39m=\u001b[39m np\u001b[39m.\u001b[39marray([[\u001b[39m6\u001b[39m,\u001b[39m-\u001b[39m\u001b[39m1\u001b[39m],[\u001b[39m2\u001b[39m,\u001b[39m3\u001b[39m]])\n\u001b[0;32m      <a href='vscode-notebook-cell:/c%3A/Users/Chloe/Desktop/day2_lab_session.ipynb#X10sZmlsZQ%3D%3D?line=1'>2</a>\u001b[0m A\n",
      "\u001b[1;31mNameError\u001b[0m: name 'np' is not defined"
     ]
    }
   ],
   "source": [
    "A = np.array([[6,-1],[2,3]])\n",
    "A"
   ]
  },
  {
   "cell_type": "markdown",
   "metadata": {
    "collapsed": true
   },
   "source": [
    "- Eigenvalues computation:"
   ]
  },
  {
   "cell_type": "code",
   "execution_count": 21,
   "metadata": {},
   "outputs": [
    {
     "data": {
      "text/plain": [
       "array([5., 4.])"
      ]
     },
     "execution_count": 21,
     "metadata": {},
     "output_type": "execute_result"
    }
   ],
   "source": [
    "linalg.eigvals(A)"
   ]
  },
  {
   "cell_type": "markdown",
   "metadata": {
    "collapsed": true
   },
   "source": [
    "- Eigenvalues and eigenvectors computation:"
   ]
  },
  {
   "cell_type": "code",
   "execution_count": 22,
   "metadata": {},
   "outputs": [
    {
     "name": "stdout",
     "output_type": "stream",
     "text": [
      "v= [5. 4.]\n",
      "p= [[0.70710678 0.4472136 ]\n",
      " [0.70710678 0.89442719]]\n",
      "v0= 5.0\n",
      "p0= [0.70710678 0.70710678]\n",
      "v1= 4.0\n",
      "p1= [0.4472136  0.89442719]\n"
     ]
    }
   ],
   "source": [
    "# v, p = linalg.eig(A) egval v  egvect p\n",
    "v, p = linalg.eig(A)\n",
    "print( \"v=\", v )\n",
    "print( \"p=\", p )\n",
    "print (\"v0=\", v[0])\n",
    "print (\"p0=\", p[:,0])\n",
    "print (\"v1=\", v[1])\n",
    "print (\"p1=\", p[:,1])\n"
   ]
  },
  {
   "cell_type": "markdown",
   "metadata": {},
   "source": [
    "Check eigenvectors property ($Av=\\lambda v$) is verified for each eigenvalue, eigenvector pair $(\\lambda,v)$:"
   ]
  },
  {
   "cell_type": "code",
   "execution_count": 24,
   "metadata": {},
   "outputs": [
    {
     "name": "stdout",
     "output_type": "stream",
     "text": [
      "[3.53553391 3.53553391]\n",
      "[3.53553391 3.53553391]\n"
     ]
    }
   ],
   "source": [
    "# np.dot produit matriciel \n",
    "# pour egval 5 et egvect p corresp\n",
    "# [: , 0] means [first_row:last_row , column_0]\n",
    "\n",
    "print( np.dot(A,p[:,0]) )\n",
    "\n",
    "print( v[0]*p[:,0] )"
   ]
  },
  {
   "cell_type": "code",
   "execution_count": 25,
   "metadata": {},
   "outputs": [
    {
     "name": "stdout",
     "output_type": "stream",
     "text": [
      "[1.78885438 3.57770876]\n",
      "[1.78885438 3.57770876]\n"
     ]
    }
   ],
   "source": [
    "# pour egval 5 et egvect p corresp\n",
    "print( np.dot(A,p[:,1]) )\n",
    "print( v[1]*p[:,1] )"
   ]
  },
  {
   "cell_type": "markdown",
   "metadata": {
    "collapsed": true
   },
   "source": [
    "- Diagonalisation computation:"
   ]
  },
  {
   "cell_type": "code",
   "execution_count": 27,
   "metadata": {},
   "outputs": [
    {
     "data": {
      "text/plain": [
       "array([[ 6., -1.],\n",
       "       [ 2.,  3.]])"
      ]
     },
     "execution_count": 27,
     "metadata": {},
     "output_type": "execute_result"
    }
   ],
   "source": [
    "#avec p les egvect de A P; npdiag(v) matrice D comprenant les egval de A; linalg.inv(p) matrice inverse de P\n",
    "# a@b equivaut à np.dot(a,b); produit matriciel\n",
    "p @ np.diag(v) @ linalg.inv(p)"
   ]
  },
  {
   "cell_type": "markdown",
   "metadata": {
    "collapsed": true
   },
   "source": [
    "- Compute matrix powers using diagonalisation: let's calculate $A^{10}$"
   ]
  },
  {
   "cell_type": "code",
   "execution_count": 28,
   "metadata": {},
   "outputs": [
    {
     "data": {
      "text/plain": [
       "array([[18482674., -8717049.],\n",
       "       [17434098., -7668473.]])"
      ]
     },
     "execution_count": 28,
     "metadata": {},
     "output_type": "execute_result"
    }
   ],
   "source": [
    "p @ np.diag(v**10) @ linalg.inv(p)"
   ]
  },
  {
   "cell_type": "markdown",
   "metadata": {},
   "source": [
    "Check result using loop:"
   ]
  },
  {
   "cell_type": "code",
   "execution_count": 30,
   "metadata": {},
   "outputs": [
    {
     "name": "stdout",
     "output_type": "stream",
     "text": [
      "[[18482674 -8717049]\n",
      " [17434098 -7668473]]\n"
     ]
    }
   ],
   "source": [
    "result = A.copy()\n",
    "for _ in range(1,10):\n",
    "    result = result @ A\n",
    "print( result )"
   ]
  },
  {
   "cell_type": "markdown",
   "metadata": {
    "collapsed": true
   },
   "source": [
    "- Compute square root using diagonalisation: let's find a matrix $B$ such that $B^2=A$"
   ]
  },
  {
   "cell_type": "code",
   "execution_count": 34,
   "metadata": {},
   "outputs": [
    {
     "name": "stdout",
     "output_type": "stream",
     "text": [
      "B [[ 2.47213595 -0.23606798]\n",
      " [ 0.47213595  1.76393202]]\n",
      "C [[ 2.47213595 -0.23606798]\n",
      " [ 0.47213595  1.76393202]]\n"
     ]
    }
   ],
   "source": [
    "B = p @ np.diag( np.sqrt(v) ) @ linalg.inv(p)\n",
    "print (\"B\", B)\n",
    "C = p @ np.sqrt( np.diag(v) ) @ linalg.inv(p)\n",
    "print (\"C\", C)"
   ]
  },
  {
   "cell_type": "code",
   "execution_count": 35,
   "metadata": {},
   "outputs": [
    {
     "data": {
      "text/plain": [
       "array([[ 6., -1.],\n",
       "       [ 2.,  3.]])"
      ]
     },
     "execution_count": 35,
     "metadata": {},
     "output_type": "execute_result"
    }
   ],
   "source": [
    "B @ B\n"
   ]
  },
  {
   "cell_type": "markdown",
   "metadata": {
    "collapsed": true
   },
   "source": [
    "- It gets tricky when size increases:"
   ]
  },
  {
   "cell_type": "code",
   "execution_count": 12,
   "metadata": {},
   "outputs": [],
   "source": [
    "#%%timeit\n",
    "#linalg.eig( np.random.random((5000,5000)) )"
   ]
  },
  {
   "cell_type": "markdown",
   "metadata": {},
   "source": [
    "Hence a need for approximate computations."
   ]
  },
  {
   "cell_type": "markdown",
   "metadata": {
    "collapsed": true
   },
   "source": [
    "<b> Exercise 1: </b> Define a function returning the $n$-th root of a matrix, using diagonalisation."
   ]
  },
  {
   "cell_type": "code",
   "execution_count": 36,
   "metadata": {},
   "outputs": [],
   "source": [
    "def nth_root(A,n):\n",
    "    v, p = linalg.eig(A)\n",
    "    return p @ np.diag( v**(1/n) ) @ linalg.inv(p)"
   ]
  },
  {
   "cell_type": "code",
   "execution_count": 37,
   "metadata": {},
   "outputs": [
    {
     "data": {
      "text/plain": [
       "array([[ 2.47213595, -0.23606798],\n",
       "       [ 0.47213595,  1.76393202]])"
      ]
     },
     "execution_count": 37,
     "metadata": {},
     "output_type": "execute_result"
    }
   ],
   "source": [
    "nth_root(A,2)"
   ]
  },
  {
   "cell_type": "code",
   "execution_count": 40,
   "metadata": {},
   "outputs": [
    {
     "data": {
      "text/plain": [
       "array([[ 6., -1.],\n",
       "       [ 2.,  3.]])"
      ]
     },
     "execution_count": 40,
     "metadata": {},
     "output_type": "execute_result"
    }
   ],
   "source": [
    "C = nth_root(A,3)\n",
    "C.dot(C).dot(C)\n",
    "# C @ C @ C"
   ]
  },
  {
   "cell_type": "markdown",
   "metadata": {},
   "source": [
    "<b>Exercise 2:</b> Eigenvalue stability: if two real matrices $M$ and $N$ are almost equal, are the eigenvalues of $M$ and $N$ almost equal ?"
   ]
  },
  {
   "cell_type": "code",
   "execution_count": 41,
   "metadata": {},
   "outputs": [
    {
     "data": {
      "text/plain": [
       "(array([1., 1.]), array([1.+1.j, 1.-1.j]))"
      ]
     },
     "execution_count": 41,
     "metadata": {},
     "output_type": "execute_result"
    }
   ],
   "source": [
    "M = np.array([[1,1000],[0,1]])\n",
    "N = np.array([[1,1000],[-0.001,1]])\n",
    "linalg.eigvals(M), linalg.eigvals(N)"
   ]
  },
  {
   "cell_type": "markdown",
   "metadata": {
    "collapsed": true
   },
   "source": [
    "In this example, $M$ has 1 as only eigenvalue and $N$ has no real eigenvalue; $N$ has however two complex eigenvalues: 1+$i$ and 1-$i$."
   ]
  },
  {
   "cell_type": "markdown",
   "metadata": {},
   "source": [
    "<h3>2. Diagonalisation for population dynamics</h3>"
   ]
  },
  {
   "cell_type": "markdown",
   "metadata": {
    "collapsed": true
   },
   "source": [
    "In this section, we look into how diagonalization can help computations with an example of population dynamics. We consider the dynamics of a squirrel population. Each year (indexed by $t$), squirrels can be partitioned into three age groups:\n",
    "- newborns, with count $P_0(t)$\n",
    "- adults, with count $P_1(t)$\n",
    "- elderly squirrels, with count $P_2(t)$"
   ]
  },
  {
   "cell_type": "markdown",
   "metadata": {
    "collapsed": true
   },
   "source": [
    "Any squirrel that survived to the end of the year moves to the next age group. Each age is characterized by its reproduction and survival properties:\n",
    "- newborns: they are too young to reproduce; 80% of them survive to the next state\n",
    "- adults: they produce a an average of 1.5 squirrel each year; 30% of them survive to the next state\n",
    "- elderly squirrels: they produce an average of 0.7 squirrel each year. "
   ]
  },
  {
   "cell_type": "markdown",
   "metadata": {
    "collapsed": true
   },
   "source": [
    "At any given year, the total population can be represented as vector $P(t) = \\begin{pmatrix} P_0(t) \\\\ P_1(t) \\\\ P_2(t) \\end{pmatrix}$, with initial population $P(0) = \\begin{pmatrix} 5 \\\\ 10 \\\\7 \\end{pmatrix}$."
   ]
  },
  {
   "cell_type": "markdown",
   "metadata": {
    "collapsed": true
   },
   "source": [
    "<b>Exercise:</b><i> What is the long-term behavior of the squirrel population ?</i>"
   ]
  },
  {
   "cell_type": "markdown",
   "metadata": {
    "collapsed": true
   },
   "source": [
    "The population dynamics is characterized by the following system:"
   ]
  },
  {
   "cell_type": "markdown",
   "metadata": {
    "collapsed": true
   },
   "source": [
    "$\\begin{pmatrix} P_0(t+1) \\\\ P_1(t+1) \\\\ P_2(t+1) \\end{pmatrix} = \\begin{pmatrix} 0 & 1.5 & 0.7 \\\\ 0.8 & 0 & 0 \\\\ 0 & 0.3 & 0 \\end{pmatrix} \\begin{pmatrix} P_0(t) \\\\ P_1(t) \\\\ P_2(t) \\end{pmatrix} $, hence $\\begin{pmatrix} P_0(t+k) \\\\ P_1(t+k) \\\\ P_2(t+k) \\end{pmatrix} = \\begin{pmatrix} 0 & 1.5 & 0.7 \\\\ 0.8 & 0 & 0 \\\\ 0 & 0.3 & 0 \\end{pmatrix}^k \\begin{pmatrix} P_0(t) \\\\ P_1(t) \\\\ P_2(t) \\end{pmatrix}$"
   ]
  },
  {
   "cell_type": "code",
   "execution_count": 40,
   "metadata": {},
   "outputs": [
    {
     "name": "stdout",
     "output_type": "stream",
     "text": [
      "[[0.00000000e+00 5.76650391e+01 2.82475249e-02]\n",
      " [1.07374182e-01 0.00000000e+00 0.00000000e+00]\n",
      " [0.00000000e+00 5.90490000e-06 0.00000000e+00]]\n"
     ]
    }
   ],
   "source": [
    "\n",
    "M = np.array([[0,1.5,0.7],[0.8,0,0],[0,0.3,0]])\n",
    "M\n",
    "\n",
    "print (M**10)"
   ]
  },
  {
   "cell_type": "code",
   "execution_count": 41,
   "metadata": {},
   "outputs": [
    {
     "name": "stdout",
     "output_type": "stream",
     "text": [
      "[5.76848123e+02 5.36870912e-01 5.90490000e-05]\n"
     ]
    }
   ],
   "source": [
    "P0 = np.array([5,10,7])\n",
    "print (np.dot(M**10, P0))"
   ]
  },
  {
   "cell_type": "markdown",
   "metadata": {},
   "source": [
    "The following function returns the population counts after $k$ years:"
   ]
  },
  {
   "cell_type": "code",
   "execution_count": 42,
   "metadata": {},
   "outputs": [],
   "source": [
    "def dynamics(M,P0,k):\n",
    "    v, p = linalg.eig(M)\n",
    "    Mk = p @ np.diag(v**k) @ linalg.inv(p)\n",
    "    print( \"v=\",v )\n",
    "    print( \"p=\",p )\n",
    "    \n",
    "    print( v**k )\n",
    "    return np.dot(Mk,P0)"
   ]
  },
  {
   "cell_type": "code",
   "execution_count": 43,
   "metadata": {},
   "outputs": [
    {
     "name": "stdout",
     "output_type": "stream",
     "text": [
      "v= [ 1.15968403 -1.0172774  -0.14240663]\n",
      "p= [[-0.8144008   0.77330696  0.0761134 ]\n",
      " [-0.56180876 -0.60813851 -0.42758344]\n",
      " [-0.14533496  0.17934297  0.90076587]]\n",
      "[4.39943353e+00 1.18684487e+00 3.43006304e-09]\n"
     ]
    },
    {
     "data": {
      "text/plain": [
       "array([41.43136712, 40.51239322,  6.96161434])"
      ]
     },
     "execution_count": 43,
     "metadata": {},
     "output_type": "execute_result"
    }
   ],
   "source": [
    "dynamics(M,P0,10)"
   ]
  },
  {
   "cell_type": "markdown",
   "metadata": {
    "collapsed": true
   },
   "source": [
    "The following function returns all population counts until year $k$:"
   ]
  },
  {
   "cell_type": "code",
   "execution_count": 44,
   "metadata": {},
   "outputs": [],
   "source": [
    "# append ajoute liste en parentheses a liste avant .\n",
    "def all_dynamics(M,P0,k):\n",
    "    P = [P0]\n",
    "    v, p = linalg.eig(M)\n",
    "    for i in range(1,k+1):\n",
    "        Mi = p @ np.diag(v**i) @ linalg.inv(p)\n",
    "        P.append( np.dot(Mi,P0) )\n",
    "    return np.array(P)"
   ]
  },
  {
   "cell_type": "code",
   "execution_count": 45,
   "metadata": {},
   "outputs": [
    {
     "data": {
      "text/plain": [
       "array([[ 5.        , 10.        ,  7.        ],\n",
       "       [19.9       ,  4.        ,  3.        ],\n",
       "       [ 8.1       , 15.92      ,  1.2       ],\n",
       "       [24.72      ,  6.48      ,  4.776     ],\n",
       "       [13.0632    , 19.776     ,  1.944     ],\n",
       "       [31.0248    , 10.45056   ,  5.9328    ],\n",
       "       [19.8288    , 24.81984   ,  3.135168  ],\n",
       "       [39.4243776 , 15.86304   ,  7.445952  ],\n",
       "       [29.0067264 , 31.53950208,  4.758912  ],\n",
       "       [50.64049152, 23.20538112,  9.46185062],\n",
       "       [41.43136712, 40.51239322,  6.96161434]])"
      ]
     },
     "execution_count": 45,
     "metadata": {},
     "output_type": "execute_result"
    }
   ],
   "source": [
    "all_dynamics(M,P0,10)"
   ]
  },
  {
   "cell_type": "markdown",
   "metadata": {
    "collapsed": true
   },
   "source": [
    "Graphically, long term population counts yield:"
   ]
  },
  {
   "cell_type": "code",
   "execution_count": 46,
   "metadata": {},
   "outputs": [],
   "source": [
    "k_max = 50\n",
    "result = all_dynamics(M,P0,k_max)"
   ]
  },
  {
   "cell_type": "code",
   "execution_count": 47,
   "metadata": {},
   "outputs": [
    {
     "data": {
      "image/png": "[encoded data removed]",
      "text/plain": [
       "<Figure size 432x288 with 1 Axes>"
      ]
     },
     "metadata": {
      "needs_background": "light"
     },
     "output_type": "display_data"
    }
   ],
   "source": [
    "plt.plot(np.arange(0,k_max+1), result[:,0], label='Newborns')\n",
    "plt.plot(np.arange(0,k_max+1), result[:,1], label='Adults')\n",
    "plt.plot(np.arange(0,k_max+1), result[:,2], label='Elderly')\n",
    "plt.plot(np.arange(0,k_max+1), np.sum(result,axis=1), label='Total population')\n",
    "plt.legend()\n",
    "plt.title('Squirrel population counts over '+str(k_max)+' years')\n",
    "plt.show()"
   ]
  },
  {
   "cell_type": "markdown",
   "metadata": {},
   "source": [
    "<h3>3. Approximate eigenvalue computations</h3>"
   ]
  },
  {
   "cell_type": "markdown",
   "metadata": {},
   "source": [
    "As seen above, direct computations of eigenvalues for large matrix sizes may be difficult and time-consuming. In this section, we will look into methods to approximate eigenvalues, in particular the eigenvalue of largest module. Although this restriction may seem severe, eigenvalues of largest module are of great interest in many physical applications, as well as in the analysis of numerical methods."
   ]
  },
  {
   "cell_type": "markdown",
   "metadata": {},
   "source": [
    "<b> Step 1: Power iteration</b>"
   ]
  },
  {
   "cell_type": "markdown",
   "metadata": {
    "collapsed": true
   },
   "source": [
    "The power method is an iterative technique for computing the <i>eigenvalue of largest module</i> of a diagonalizable matrix $A \\in \\mathcal{M}_n(\\mathbb{R})$ and corresponding eigenvector (also called <i>dominant</i> eigenvalue-eigenvector pair), as long as the eigenvalues of $A$ are ordered as\n",
    "$$ \\lvert \\lambda_1 \\rvert > \\lvert \\lambda_2 \\rvert \\geq \\lvert \\lambda_3 \\rvert ... \\geq \\lvert \\lambda_n \\rvert $$\n",
    "with $\\lvert\\lambda_2\\rvert,...,\\lvert\\lambda_n\\rvert\\neq\\lvert\\lambda_1\\rvert$.\n",
    "\n",
    "The algorithm is the following:\n",
    "- Start: choose a nonzero initial vector $v_0$\n",
    "- Iterate: for $k=1,2,...$ until convergence, compute\n",
    "$$v_k = \\frac{1}{\\alpha_k}Av_{k-1}$$\n",
    "where $\\alpha_k$ is the component of the vector $Av_{k-1}$ with maximum modulus (also called infinity norm).\n",
    "- Return: the eigenvalue corresponding to $v_k$ is $\\lambda = \\frac{A v_k \\cdot v_k}{v_k \\cdot v_k}$ (also called Rayleigh quotient).\n",
    "\n",
    "<b>Exercise: </b> <i>Implement the power method. How fast does it seem to converge ? Point out some failure cases.</i>"
   ]
  },
  {
   "cell_type": "markdown",
   "metadata": {
    "collapsed": true
   },
   "source": [
    "The following function implements power iteration. What are the parameters $v_0, error, lambd, mu, k, K$ ?"
   ]
  },
  {
   "cell_type": "code",
   "execution_count": 48,
   "metadata": {},
   "outputs": [],
   "source": [
    "def poweriteration(A,v0,tol):\n",
    "    error = math.inf # relative error of consecutive lambda values\n",
    "    u = v0 # store previous eigenvector\n",
    "    v = u/linalg.norm(u,math.inf) # eigenvector estimate\n",
    "    mu = 1 # store previous lambda\n",
    "    k = 0 # count iterations\n",
    "    K = 1000 # maximum iteration number\n",
    "    while error > tol and k <= K:\n",
    "        k = k+1\n",
    "        u = A.dot(v)\n",
    "        lambd = u.dot(v)/v.dot(v)\n",
    "        v = u/linalg.norm(u,math.inf)\n",
    "        error = abs((lambd-mu)/mu)\n",
    "        mu = lambd\n",
    "    if k <= K:\n",
    "        print(str(k)+\" steps performed\")\n",
    "        print(\"Largest eigenvalue: \"+str(lambd))\n",
    "        print(\"Eigenvector: \"+str(v))\n",
    "    else:\n",
    "        print(\"Power method does not converge in \"+str(K)+\" steps\")\n",
    "    return lambd, v"
   ]
  },
  {
   "cell_type": "markdown",
   "metadata": {},
   "source": [
    "Parameters:\n",
    "- $lambd$ stores the largest eigenvalue of $A$ (also denoted lambda)\n",
    "- $error$ stores the relative error between two consecutive values of lambda; \n",
    "- $u$ stores the eigenvector corresponding to lambda, computed at the previous step; \n",
    "- $v_0$ is the initialization value of the eigenvector;\n",
    "- $mu$ stores the value of lambda computed at the previous step;\n",
    "- $k$ stores the count of iterations;\n",
    "- $K$ is the maximal iterations number."
   ]
  },
  {
   "cell_type": "markdown",
   "metadata": {},
   "source": [
    "Testing on running 2-by-2 example:"
   ]
  },
  {
   "cell_type": "code",
   "execution_count": 49,
   "metadata": {},
   "outputs": [
    {
     "ename": "ValueError",
     "evalue": "shapes (3,3) and (2,) not aligned: 3 (dim 1) != 2 (dim 0)",
     "output_type": "error",
     "traceback": [
      "\u001b[1;31m---------------------------------------------------------------------------\u001b[0m",
      "\u001b[1;31mValueError\u001b[0m                                Traceback (most recent call last)",
      "\u001b[1;32m<ipython-input-49-b13ceb929233>\u001b[0m in \u001b[0;36m<module>\u001b[1;34m\u001b[0m\n\u001b[0;32m      1\u001b[0m \u001b[0mv0\u001b[0m \u001b[1;33m=\u001b[0m \u001b[0mnp\u001b[0m\u001b[1;33m.\u001b[0m\u001b[0mrandom\u001b[0m\u001b[1;33m.\u001b[0m\u001b[0mrand\u001b[0m\u001b[1;33m(\u001b[0m\u001b[1;36m2\u001b[0m\u001b[1;33m)\u001b[0m\u001b[1;33m\u001b[0m\u001b[1;33m\u001b[0m\u001b[0m\n\u001b[0;32m      2\u001b[0m \u001b[0mtol\u001b[0m \u001b[1;33m=\u001b[0m \u001b[1;36m1e-6\u001b[0m\u001b[1;33m\u001b[0m\u001b[1;33m\u001b[0m\u001b[0m\n\u001b[1;32m----> 3\u001b[1;33m \u001b[0mpoweriteration\u001b[0m\u001b[1;33m(\u001b[0m\u001b[0mA\u001b[0m\u001b[1;33m,\u001b[0m \u001b[0mv0\u001b[0m \u001b[1;33m,\u001b[0m\u001b[0mtol\u001b[0m\u001b[1;33m)\u001b[0m\u001b[1;33m\u001b[0m\u001b[1;33m\u001b[0m\u001b[0m\n\u001b[0m",
      "\u001b[1;32m<ipython-input-48-1a9d0616a6bc>\u001b[0m in \u001b[0;36mpoweriteration\u001b[1;34m(A, v0, tol)\u001b[0m\n\u001b[0;32m      8\u001b[0m     \u001b[1;32mwhile\u001b[0m \u001b[0merror\u001b[0m \u001b[1;33m>\u001b[0m \u001b[0mtol\u001b[0m \u001b[1;32mand\u001b[0m \u001b[0mk\u001b[0m \u001b[1;33m<=\u001b[0m \u001b[0mK\u001b[0m\u001b[1;33m:\u001b[0m\u001b[1;33m\u001b[0m\u001b[1;33m\u001b[0m\u001b[0m\n\u001b[0;32m      9\u001b[0m         \u001b[0mk\u001b[0m \u001b[1;33m=\u001b[0m \u001b[0mk\u001b[0m\u001b[1;33m+\u001b[0m\u001b[1;36m1\u001b[0m\u001b[1;33m\u001b[0m\u001b[1;33m\u001b[0m\u001b[0m\n\u001b[1;32m---> 10\u001b[1;33m         \u001b[0mu\u001b[0m \u001b[1;33m=\u001b[0m \u001b[0mA\u001b[0m\u001b[1;33m.\u001b[0m\u001b[0mdot\u001b[0m\u001b[1;33m(\u001b[0m\u001b[0mv\u001b[0m\u001b[1;33m)\u001b[0m\u001b[1;33m\u001b[0m\u001b[1;33m\u001b[0m\u001b[0m\n\u001b[0m\u001b[0;32m     11\u001b[0m         \u001b[0mlambd\u001b[0m \u001b[1;33m=\u001b[0m \u001b[0mu\u001b[0m\u001b[1;33m.\u001b[0m\u001b[0mdot\u001b[0m\u001b[1;33m(\u001b[0m\u001b[0mv\u001b[0m\u001b[1;33m)\u001b[0m\u001b[1;33m/\u001b[0m\u001b[0mv\u001b[0m\u001b[1;33m.\u001b[0m\u001b[0mdot\u001b[0m\u001b[1;33m(\u001b[0m\u001b[0mv\u001b[0m\u001b[1;33m)\u001b[0m\u001b[1;33m\u001b[0m\u001b[1;33m\u001b[0m\u001b[0m\n\u001b[0;32m     12\u001b[0m         \u001b[0mv\u001b[0m \u001b[1;33m=\u001b[0m \u001b[0mu\u001b[0m\u001b[1;33m/\u001b[0m\u001b[0mlinalg\u001b[0m\u001b[1;33m.\u001b[0m\u001b[0mnorm\u001b[0m\u001b[1;33m(\u001b[0m\u001b[0mu\u001b[0m\u001b[1;33m,\u001b[0m\u001b[0mmath\u001b[0m\u001b[1;33m.\u001b[0m\u001b[0minf\u001b[0m\u001b[1;33m)\u001b[0m\u001b[1;33m\u001b[0m\u001b[1;33m\u001b[0m\u001b[0m\n",
      "\u001b[1;31mValueError\u001b[0m: shapes (3,3) and (2,) not aligned: 3 (dim 1) != 2 (dim 0)"
     ]
    }
   ],
   "source": [
    "v0 = np.random.rand(2)\n",
    "tol = 1e-6\n",
    "poweriteration(A, v0 ,tol)"
   ]
  },
  {
   "cell_type": "markdown",
   "metadata": {},
   "source": [
    "Testing on 4-by-4 example:"
   ]
  },
  {
   "cell_type": "code",
   "execution_count": 27,
   "metadata": {},
   "outputs": [
    {
     "name": "stdout",
     "output_type": "stream",
     "text": [
      "26 steps performed\n",
      "Largest eigenvalue: -6.999997898252716\n",
      "Eigenvector: [-0.91127282 -0.15711505  0.42141989  1.        ]\n"
     ]
    },
    {
     "data": {
      "text/plain": [
       "(-6.999997898252716,\n",
       " array([-0.91127282, -0.15711505,  0.42141989,  1.        ]))"
      ]
     },
     "execution_count": 27,
     "metadata": {},
     "output_type": "execute_result"
    }
   ],
   "source": [
    "P = np.random.rand(4,4)\n",
    "M = linalg.inv(P).dot(np.diag((-7,3,4,1))).dot(P)\n",
    "v0 = np.random.rand(M.shape[0])\n",
    "tol = 1e-6\n",
    "poweriteration(M,v0,tol)"
   ]
  },
  {
   "cell_type": "markdown",
   "metadata": {},
   "source": [
    "Testing when non-diagonalizable: there is no guarantee for the power method to converge."
   ]
  },
  {
   "cell_type": "code",
   "execution_count": 28,
   "metadata": {},
   "outputs": [
    {
     "name": "stdout",
     "output_type": "stream",
     "text": [
      "Power method does not converge in 1000 steps\n"
     ]
    },
    {
     "data": {
      "text/plain": [
       "(1.001000044381353, array([-1.00000000e+00,  3.33015134e-04]))"
      ]
     },
     "execution_count": 28,
     "metadata": {},
     "output_type": "execute_result"
    }
   ],
   "source": [
    "M = np.array([[1,-3],[0,1]])\n",
    "v0 = np.random.rand(M.shape[0])\n",
    "tol = 1e-6\n",
    "poweriteration(M,v0,tol)"
   ]
  },
  {
   "cell_type": "markdown",
   "metadata": {},
   "source": [
    "Testing when non-unique dominant eigenvalue: convergence of the power method depends on the sign of dominant eigenvalues."
   ]
  },
  {
   "cell_type": "code",
   "execution_count": 29,
   "metadata": {},
   "outputs": [
    {
     "name": "stdout",
     "output_type": "stream",
     "text": [
      "Power method does not converge in 1000 steps\n"
     ]
    },
    {
     "data": {
      "text/plain": [
       "(-14.362250696846687,\n",
       " array([ 0.19993015,  0.41618194, -1.        ,  0.36461035]))"
      ]
     },
     "execution_count": 29,
     "metadata": {},
     "output_type": "execute_result"
    }
   ],
   "source": [
    "P = np.random.rand(4,4)\n",
    "M = linalg.inv(P).dot(np.diag((-7,7,4,1))).dot(P)\n",
    "v0 = np.random.rand(M.shape[0])\n",
    "tol = 1e-6\n",
    "poweriteration(M,v0,tol)"
   ]
  },
  {
   "cell_type": "code",
   "execution_count": 30,
   "metadata": {},
   "outputs": [
    {
     "name": "stdout",
     "output_type": "stream",
     "text": [
      "26 steps performed\n",
      "Largest eigenvalue: -6.999998009645206\n",
      "Eigenvector: [ 1.         -0.41311081 -0.16815668 -0.62937436]\n"
     ]
    },
    {
     "data": {
      "text/plain": [
       "(-6.999998009645206,\n",
       " array([ 1.        , -0.41311081, -0.16815668, -0.62937436]))"
      ]
     },
     "execution_count": 30,
     "metadata": {},
     "output_type": "execute_result"
    }
   ],
   "source": [
    "P = np.random.rand(4,4)\n",
    "M = linalg.inv(P).dot(np.diag((-7,-7,4,1))).dot(P)\n",
    "v0 = np.random.rand(M.shape[0])\n",
    "tol = 1e-6\n",
    "poweriteration(M,v0,tol)"
   ]
  },
  {
   "cell_type": "markdown",
   "metadata": {
    "collapsed": true
   },
   "source": [
    "Adding convergence plots:"
   ]
  },
  {
   "cell_type": "code",
   "execution_count": 31,
   "metadata": {
    "collapsed": true
   },
   "outputs": [],
   "source": [
    "def poweriteration_plots(A,v0,tol):\n",
    "    error = math.inf # relative error of consecutive lambda values\n",
    "    u = v0 # store previous eigenvector\n",
    "    v = u/linalg.norm(u,math.inf) # eigenvector estimate\n",
    "    mu = 1 # store previous lambda\n",
    "    k = 0 # count iterations\n",
    "    K = 1000 # maximum iteration number\n",
    "    errors = []\n",
    "    while error > tol and k <= K:\n",
    "        k = k+1\n",
    "        u = A.dot(v)\n",
    "        lambd = u.dot(v)/v.dot(v)\n",
    "        v = u/linalg.norm(u,math.inf)\n",
    "        error = abs((lambd-mu)/mu)\n",
    "        errors.append(error)\n",
    "        mu = lambd\n",
    "    if k <= K:\n",
    "        print(str(k)+\" steps performed\")\n",
    "        print(\"Largest eigenvalue: \"+str(lambd))\n",
    "        print(\"Eigenvector: \"+str(v))\n",
    "    else:\n",
    "        print(\"Power method does not converge in \"+str(K)+\" steps\")\n",
    "    return lambd, v, errors"
   ]
  },
  {
   "cell_type": "code",
   "execution_count": 32,
   "metadata": {},
   "outputs": [
    {
     "name": "stdout",
     "output_type": "stream",
     "text": [
      "44 steps performed\n",
      "Largest eigenvalue: 4.999982738658493\n",
      "Eigenvector: [0.99999079 1.        ]\n"
     ]
    }
   ],
   "source": [
    "v0 = np.random.rand(2)\n",
    "tol = 1e-6\n",
    "lambd, v, errors = poweriteration_plots(A,v0,tol)"
   ]
  },
  {
   "cell_type": "code",
   "execution_count": 33,
   "metadata": {},
   "outputs": [
    {
     "data": {
      "image/png": "[encoded data removed]",
      "text/plain": [
       "<matplotlib.figure.Figure at 0x22de97fd278>"
      ]
     },
     "metadata": {},
     "output_type": "display_data"
    }
   ],
   "source": [
    "plt.plot(np.arange(0,len(errors)), errors, label='Errors')\n",
    "plt.plot(np.arange(0,len(errors)), tol*np.ones(len(errors)), label='Tolerance')\n",
    "plt.ylim(0,1e-4)\n",
    "plt.legend()\n",
    "plt.title('Convergence towards eigenvalue with largest module')\n",
    "plt.show()"
   ]
  },
  {
   "cell_type": "markdown",
   "metadata": {},
   "source": [
    "How does the number of iterations required vary when the second largest eigenvalue varies?"
   ]
  },
  {
   "cell_type": "code",
   "execution_count": 34,
   "metadata": {},
   "outputs": [
    {
     "name": "stdout",
     "output_type": "stream",
     "text": [
      "483 steps performed\n",
      "Largest eigenvalue: -6.9995234431949\n",
      "Eigenvector: [-1.          0.29813829  0.39911187 -0.37589716]\n",
      "114 steps performed\n",
      "Largest eigenvalue: -7.000069209656208\n",
      "Eigenvector: [-1.          0.05628278 -0.1969384   0.52435413]\n",
      "58 steps performed\n",
      "Largest eigenvalue: -7.000035748928606\n",
      "Eigenvector: [ 0.52277625 -0.38977949 -0.82790994  1.        ]\n",
      "37 steps performed\n",
      "Largest eigenvalue: -7.00002294766684\n",
      "Eigenvector: [ 0.08382126 -1.          0.25789038  0.64792112]\n",
      "35 steps performed\n",
      "Largest eigenvalue: -7.000013677015506\n",
      "Eigenvector: [ 0.22815872 -0.86853424 -0.28802419  1.        ]\n",
      "25 steps performed\n",
      "Largest eigenvalue: -7.000010145176019\n",
      "Eigenvector: [ 0.06226727  1.          0.0299047  -0.76022848]\n",
      "22 steps performed\n",
      "Largest eigenvalue: -6.999994849531876\n",
      "Eigenvector: [-0.75435204 -0.07149748 -0.04959147  1.        ]\n",
      "19 steps performed\n",
      "Largest eigenvalue: -7.00000540916547\n",
      "Eigenvector: [-0.01804896  0.15993486 -1.          0.59248918]\n",
      "14 steps performed\n",
      "Largest eigenvalue: -6.999995737147949\n",
      "Eigenvector: [ 1.          0.1339227  -0.84391421 -0.34507432]\n",
      "13 steps performed\n",
      "Largest eigenvalue: -6.999996530547605\n",
      "Eigenvector: [ 0.19383652  0.20360755 -1.         -0.16171895]\n",
      "11 steps performed\n",
      "Largest eigenvalue: -6.999997610186522\n",
      "Eigenvector: [ 0.0187287  -0.75917611  1.         -0.55693398]\n",
      "11 steps performed\n",
      "Largest eigenvalue: -7.0000003551982015\n",
      "Eigenvector: [-0.37029337 -0.51172707  1.          0.13157607]\n",
      "9 steps performed\n",
      "Largest eigenvalue: -7.000000454193123\n",
      "Eigenvector: [-0.55916693 -0.67592082 -0.17859669  1.        ]\n",
      "7 steps performed\n",
      "Largest eigenvalue: -7.000000271595372\n",
      "Eigenvector: [-0.26563901 -1.         -0.01664196  0.32292763]\n",
      "6 steps performed\n",
      "Largest eigenvalue: -6.999999987756277\n",
      "Eigenvector: [-1.         -0.17564891  0.47642431  0.22043658]\n",
      "8 steps performed\n",
      "Largest eigenvalue: -6.999999648866683\n",
      "Eigenvector: [-0.13149513  0.95798372 -1.          0.19238979]\n",
      "9 steps performed\n",
      "Largest eigenvalue: -7.000000328404219\n",
      "Eigenvector: [ 0.0161946   0.47858074 -1.         -0.09647863]\n",
      "12 steps performed\n",
      "Largest eigenvalue: -6.99999962473127\n",
      "Eigenvector: [ 1.         -0.82797964 -0.68250041  0.49039959]\n",
      "13 steps performed\n",
      "Largest eigenvalue: -6.9999987144233495\n",
      "Eigenvector: [-0.52796947  0.15550902 -0.75473401  1.        ]\n",
      "17 steps performed\n",
      "Largest eigenvalue: -6.9999991896456555\n",
      "Eigenvector: [-1.         -0.51590492  0.71659226  0.01706399]\n",
      "16 steps performed\n",
      "Largest eigenvalue: -7.000001592771182\n",
      "Eigenvector: [-1.          0.16898193  0.46826699  0.17151184]\n",
      "24 steps performed\n",
      "Largest eigenvalue: -7.000001558650266\n",
      "Eigenvector: [-0.14350789  0.650015   -1.          0.33768099]\n",
      "31 steps performed\n",
      "Largest eigenvalue: -7.000001715043445\n",
      "Eigenvector: [ 0.21655529 -0.3915232  -1.          0.97318993]\n",
      "35 steps performed\n",
      "Largest eigenvalue: -7.000001854970918\n",
      "Eigenvector: [ 0.23017007 -1.         -0.93358537  0.8829869 ]\n",
      "50 steps performed\n",
      "Largest eigenvalue: -6.999997786444356\n",
      "Eigenvector: [ 0.32591178 -0.68275481  1.         -0.1555405 ]\n",
      "79 steps performed\n",
      "Largest eigenvalue: -6.999997180776938\n",
      "Eigenvector: [ 0.12403683  0.90846572 -0.29605544 -1.        ]\n",
      "83 steps performed\n",
      "Largest eigenvalue: -6.999997147526989\n",
      "Eigenvector: [-0.57823045 -0.52595046  1.         -0.12393471]\n",
      "281 steps performed\n",
      "Largest eigenvalue: -7.00000327000507\n",
      "Eigenvector: [ 1.          0.20331619  0.11767008 -0.74223121]\n"
     ]
    }
   ],
   "source": [
    "step_nb = []\n",
    "for second_eig in np.arange(-6.9,6.9,0.5):\n",
    "    P = np.random.rand(4,4)\n",
    "    M = linalg.inv(P).dot(np.diag((-7,second_eig,0,0))).dot(P)\n",
    "    v0 = np.random.rand(M.shape[0])\n",
    "    tol = 1e-6\n",
    "    lambd, v, errors = poweriteration_plots(M,v0,tol)\n",
    "    step_nb.append( len(errors) )"
   ]
  },
  {
   "cell_type": "code",
   "execution_count": 35,
   "metadata": {},
   "outputs": [
    {
     "data": {
      "image/png": "[encoded data removed]",
      "text/plain": [
       "<matplotlib.figure.Figure at 0x22de94bce10>"
      ]
     },
     "metadata": {},
     "output_type": "display_data"
    }
   ],
   "source": [
    "plt.plot(np.arange(-6.9,6.9,0.5), step_nb)\n",
    "plt.xlabel(\"Eigenvalue of second largest module\")\n",
    "plt.ylabel(\"Iterations\")\n",
    "plt.title('Number of iterations needed to converge')\n",
    "plt.show()"
   ]
  },
  {
   "cell_type": "markdown",
   "metadata": {
    "collapsed": true
   },
   "source": [
    "<b> References </b>\n",
    "\n",
    "Prince, T. and Angulo, N., \"Application of Eigenvalues and Eigenvectors and Diagonalization to Environmental Science\", Applied Ecology and Environmental Sciences 2(4):106-109, 2014"
   ]
  },
  {
   "cell_type": "markdown",
   "metadata": {
    "collapsed": true
   },
   "source": [
    "Larson, R. and Edwards, B. H. and Falvo, D. C., \"Elementary Linear Algebra\", Fifth edition, Houghton Mifflin Company, 2004"
   ]
  }
 ],
 "metadata": {
  "kernelspec": {
   "display_name": "Python 3",
   "language": "python",
   "name": "python3"
  },
  "language_info": {
   "codemirror_mode": {
    "name": "ipython",
    "version": 3
   },
   "file_extension": ".py",
   "mimetype": "text/x-python",
   "name": "python",
   "nbconvert_exporter": "python",
   "pygments_lexer": "ipython3",
   "version": "3.8.5"
  }
 },
 "nbformat": 4,
 "nbformat_minor": 2
}
