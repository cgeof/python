{
 "cells": [
  {
   "cell_type": "code",
   "execution_count": 52,
   "id": "93705a76",
   "metadata": {},
   "outputs": [],
   "source": [
    "def u(x):\n",
    "    return x**2"
   ]
  },
  {
   "cell_type": "code",
   "execution_count": 66,
   "id": "dabb46bb",
   "metadata": {},
   "outputs": [],
   "source": [
    "from numpy import log as ln\n",
    "import math\n",
    "def v(x):\n",
    "    return ln(x)"
   ]
  },
  {
   "cell_type": "code",
   "execution_count": 77,
   "id": "de6d25be",
   "metadata": {},
   "outputs": [],
   "source": [
    "\n",
    "def w(x):\n",
    "    return math.exp(x)"
   ]
  },
  {
   "cell_type": "code",
   "execution_count": 89,
   "id": "88a24bb6",
   "metadata": {},
   "outputs": [
    {
     "name": "stdout",
     "output_type": "stream",
     "text": [
      "Choisir A1000000\n",
      "A= 1000000\n"
     ]
    }
   ],
   "source": [
    "\n",
    "A = input (\"Choisir A\")\n",
    "print (\"A=\", int(A))"
   ]
  },
  {
   "cell_type": "code",
   "execution_count": 90,
   "id": "88e47530",
   "metadata": {
    "scrolled": true
   },
   "outputs": [
    {
     "name": "stdout",
     "output_type": "stream",
     "text": [
      "x= 1000\n"
     ]
    }
   ],
   "source": [
    "x = 10000\n",
    "while u(x) > int(A):\n",
    "   x -= 1\n",
    "print(\"x=\", x)"
   ]
  },
  {
   "cell_type": "code",
   "execution_count": 91,
   "id": "8de28a81",
   "metadata": {},
   "outputs": [
    {
     "name": "stdout",
     "output_type": "stream",
     "text": [
      "x= 10000\n"
     ]
    }
   ],
   "source": [
    "x = 10000\n",
    "while v(x) > int(A):\n",
    "   x -= 1\n",
    "print(\"x=\", x)"
   ]
  },
  {
   "cell_type": "code",
   "execution_count": 92,
   "id": "13ee6aa1",
   "metadata": {},
   "outputs": [
    {
     "data": {
      "text/plain": [
       "0.6931471805599453"
      ]
     },
     "execution_count": 92,
     "metadata": {},
     "output_type": "execute_result"
    }
   ],
   "source": [
    "v(2)\n"
   ]
  },
  {
   "cell_type": "code",
   "execution_count": 95,
   "id": "b81b33ce",
   "metadata": {},
   "outputs": [
    {
     "name": "stdout",
     "output_type": "stream",
     "text": [
      "x= 13\n"
     ]
    }
   ],
   "source": [
    "\n",
    "x = 100\n",
    "while w(x) > int(A):\n",
    "   x -= 1\n",
    "print(\"x=\", x)\n"
   ]
  },
  {
   "cell_type": "code",
   "execution_count": null,
   "id": "4c738b81",
   "metadata": {},
   "outputs": [],
   "source": []
  }
 ],
 "metadata": {
  "kernelspec": {
   "display_name": "Python 3 (ipykernel)",
   "language": "python",
   "name": "python3"
  },
  "language_info": {
   "codemirror_mode": {
    "name": "ipython",
    "version": 3
   },
   "file_extension": ".py",
   "mimetype": "text/x-python",
   "name": "python",
   "nbconvert_exporter": "python",
   "pygments_lexer": "ipython3",
   "version": "3.8.8"
  }
 },
 "nbformat": 4,
 "nbformat_minor": 5
}
